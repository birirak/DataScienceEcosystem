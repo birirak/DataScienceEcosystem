{
 "cells": [
  {
   "cell_type": "markdown",
   "id": "627c1470-c109-47e2-9a0c-b6fb3ce94944",
   "metadata": {},
   "source": [
    "# Data Science Tools and Ecosystem"
   ]
  },
  {
   "cell_type": "markdown",
   "id": "fff9f5fb-a427-4d2f-909d-ed99c1ae5efc",
   "metadata": {},
   "source": [
    "In this notebook, Data Science Tools and Ecosystem are summarized."
   ]
  },
  {
   "cell_type": "markdown",
   "id": "e8fc297e-c25b-446c-9bdb-dac06817038d",
   "metadata": {},
   "source": [
    "**Objective**\n",
    "\n",
    "-List popular languages for Data Science\n",
    "\n",
    "-List andcommonly used libraries used by Data Scientists\n",
    "\n",
    "-List examples of arithmetic expressions"
   ]
  },
  {
   "cell_type": "markdown",
   "id": "39947d1f-9bed-44ae-b514-7a00140ea1c7",
   "metadata": {},
   "source": [
    "Some of the popular languages that Data Scientists use are:"
   ]
  },
  {
   "cell_type": "markdown",
   "id": "2d98172a-0d0d-4651-b206-b711f4ee56a6",
   "metadata": {},
   "source": [
    "1. Python\n",
    "2. R\n",
    "3. Julia\n",
    "4. SQL"
   ]
  },
  {
   "cell_type": "markdown",
   "id": "c5256d7b-a5a1-4f8b-bd74-4e4245e3f1da",
   "metadata": {},
   "source": [
    "Some of the commonly used libraries used by Data Scientists include:"
   ]
  },
  {
   "cell_type": "markdown",
   "id": "d9acbd3e-901a-434a-9621-57a1d77a2e45",
   "metadata": {},
   "source": [
    "1. Pandas\n",
    "2. ggplot2\n",
    "3. caret\n",
    "4. NumPy"
   ]
  },
  {
   "cell_type": "markdown",
   "id": "4f803ee8-f4b0-4620-8656-41d0ffae113f",
   "metadata": {},
   "source": [
    "| Data Science Tools |\n",
    "| -------------| \n",
    "| Jupyter Notebook | \n",
    "| RStudio | \n",
    "| VS Code | "
   ]
  },
  {
   "cell_type": "markdown",
   "id": "0a717a48-08eb-4a28-b798-bc730016f125",
   "metadata": {},
   "source": [
    "### Below are a few examples of evaluating arithmetic expressions in Python"
   ]
  },
  {
   "cell_type": "code",
   "execution_count": 3,
   "id": "3cb91d0a-69b6-48f9-ac47-c4f8ec0c2451",
   "metadata": {},
   "outputs": [
    {
     "data": {
      "text/plain": [
       "17"
      ]
     },
     "execution_count": 3,
     "metadata": {},
     "output_type": "execute_result"
    }
   ],
   "source": [
    "# This a simple arithmetic expression to mutiply then add integers\n",
    "(3*4)+5"
   ]
  },
  {
   "cell_type": "code",
   "execution_count": 11,
   "id": "953386bd-380b-4759-96f2-afe8c524db48",
   "metadata": {},
   "outputs": [
    {
     "name": "stdout",
     "output_type": "stream",
     "text": [
      "200 minutes is : \n",
      "3.3333333333333335 hours\n"
     ]
    }
   ],
   "source": [
    "# This will convert 200 minutes to hours by diving by 60\n",
    "print(\"200 minutes is : \")\n",
    "print(200/60, \"hours\")"
   ]
  },
  {
   "cell_type": "markdown",
   "id": "48ecbfe9-3304-4a06-ba3f-f0be74ea2675",
   "metadata": {},
   "source": [
    "## Author\n",
    "Anthony Birir"
   ]
  },
  {
   "cell_type": "code",
   "execution_count": null,
   "id": "017c67a9-ef74-4672-a4cf-ed8b993c8652",
   "metadata": {},
   "outputs": [],
   "source": []
  }
 ],
 "metadata": {
  "kernelspec": {
   "display_name": "Python 3 (ipykernel)",
   "language": "python",
   "name": "python3"
  },
  "language_info": {
   "codemirror_mode": {
    "name": "ipython",
    "version": 3
   },
   "file_extension": ".py",
   "mimetype": "text/x-python",
   "name": "python",
   "nbconvert_exporter": "python",
   "pygments_lexer": "ipython3",
   "version": "3.11.9"
  }
 },
 "nbformat": 4,
 "nbformat_minor": 5
}
